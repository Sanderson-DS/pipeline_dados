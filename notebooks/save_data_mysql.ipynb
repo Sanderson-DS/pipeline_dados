{
 "cells": [
  {
   "cell_type": "markdown",
   "metadata": {
    "id": "48lvfFLHAaMS"
   },
   "source": [
    "## Configurando o MySQL com Python"
   ]
  },
  {
   "cell_type": "markdown",
   "metadata": {
    "id": "E_Rtdd62AaMU"
   },
   "source": [
    "Neste momento, vamos configurar a integração entre o MySQL e Python. Isso nos permitirá executar consultas, inserções e outras operações no banco de dados MySQL usando o Python como nossa linguagem de programação principal."
   ]
  },
  {
   "cell_type": "code",
   "execution_count": 52,
   "metadata": {
    "id": "oSmszBiKAaMU"
   },
   "outputs": [
    {
     "name": "stdout",
     "output_type": "stream",
     "text": [
      "✅ Conexão estabelecida com sucesso!\n",
      "Versão do servidor MySQL: 8.0.42-0ubuntu0.22.04.1\n"
     ]
    }
   ],
   "source": [
    "import os\n",
    "from dotenv import load_dotenv\n",
    "import mysql.connector\n",
    "from mysql.connector import Error\n",
    "from mysql.connector import ProgrammingError\n",
    "from mysql.connector import InterfaceError\n",
    "\n",
    "load_dotenv()\n",
    "\n",
    "host = os.getenv(\"DB_HOST\")\n",
    "user = os.getenv(\"DB_USERNAME\")\n",
    "password = os.getenv(\"DB_PASSWORD\")\n",
    "\n",
    "try:\n",
    "    cnx =  mysql.connector.connect(\n",
    "        host=host,\n",
    "        user=user,\n",
    "        password=password\n",
    "    )\n",
    "\n",
    "    if cnx.is_connected():\n",
    "        print(\"✅ Conexão estabelecida com sucesso!\")\n",
    "        # opcional: exibe versão do MySQL\n",
    "        info = cnx.server_info\n",
    "        print(f\"Versão do servidor MySQL: {info}\")\n",
    "\n",
    "\n",
    "except ProgrammingError as pe:\n",
    "    print(\"❌ Erro de autenticação ou comando inválido:\")\n",
    "    print(pe)\n",
    "\n",
    "except InterfaceError as ie:\n",
    "    print(\"❌ Erro de conexão (interface):\")\n",
    "    print(ie)\n",
    "\n",
    "except Error as e:\n",
    "    print(\"❌ Outro erro com MySQL:\")\n",
    "    print(e)\n",
    "\n",
    "except Exception as ex:\n",
    "    print(\"⚠️ Erro inesperado:\")\n",
    "    print(ex)\n",
    "\n"
   ]
  },
  {
   "cell_type": "markdown",
   "metadata": {
    "id": "jprge52bAaMV"
   },
   "source": [
    "Criaremos um cursor, que é um objeto utilizado para executar instruções SQL no contexto do Python. Essse cursor nos permitirá enviar consultas e comandos SQL para o banco de dados MySQL por meio da conexão estabelecida e obter os resultados de volta para serem processados em nosso código Python"
   ]
  },
  {
   "cell_type": "code",
   "execution_count": null,
   "metadata": {
    "id": "_wxVOv0fAaMV"
   },
   "outputs": [],
   "source": [
    "cursor = cnx.cursor()"
   ]
  },
  {
   "cell_type": "markdown",
   "metadata": {
    "id": "yQCWj8OiAaMW"
   },
   "source": [
    "## Criando uma base de dados"
   ]
  },
  {
   "cell_type": "markdown",
   "metadata": {
    "id": "SuVcZJ3zAaMW"
   },
   "source": [
    "O método `execute()` é usado para compilar uma instrução SQL"
   ]
  },
  {
   "cell_type": "code",
   "execution_count": null,
   "metadata": {
    "id": "wt5l_h8hAaMW"
   },
   "outputs": [],
   "source": [
    "cursor.execute('CREATE DATABASE IF NOT EXISTS dbprodutos;')"
   ]
  },
  {
   "cell_type": "code",
   "execution_count": null,
   "metadata": {
    "id": "Ofbqx6eQAaMW"
   },
   "outputs": [],
   "source": [
    "cursor.execute('SHOW DATABASES;')\n",
    "\n",
    "for db in cursor:\n",
    "    print(db)"
   ]
  },
  {
   "cell_type": "markdown",
   "metadata": {
    "id": "cNpQyBpzAaMW"
   },
   "source": [
    "## Criando uma tabela"
   ]
  },
  {
   "cell_type": "markdown",
   "metadata": {
    "id": "Z-fB6LrNAaMW"
   },
   "source": [
    "Antes de criar nossa tabela, vamos revisar as colunas necessárias que precisaremos incluir nela. Essa etapa é importante para garantir que nossa tabela seja projetada corretamente, atendendo aos requisitos de armazenamento e organização dos dados."
   ]
  },
  {
   "cell_type": "code",
   "execution_count": null,
   "metadata": {
    "id": "EDMnNl3UAaMX"
   },
   "outputs": [],
   "source": [
    "import pandas as pd\n",
    "\n",
    "df_livros = pd.read_csv('/home/sander/repos/pipeline_dados_bd/data/tabela_livros.csv')\n",
    "df_livros.head()"
   ]
  },
  {
   "cell_type": "code",
   "execution_count": null,
   "metadata": {
    "id": "AOgI2-yAAaMX"
   },
   "outputs": [],
   "source": [
    "leitor = df_livros.columns\n",
    "\n",
    "for col in leitor:\n",
    "    print(col, 'VARCHAR(100),')"
   ]
  },
  {
   "cell_type": "code",
   "execution_count": null,
   "metadata": {
    "id": "IjXdnduAAaMX"
   },
   "outputs": [],
   "source": [
    "df_livros.shape"
   ]
  },
  {
   "cell_type": "code",
   "execution_count": null,
   "metadata": {
    "id": "mEL2pt5eAaMX"
   },
   "outputs": [],
   "source": [
    "cursor.execute(\"\"\"\n",
    "    create table if not exists dbprodutos.tb_livros(\n",
    "            id VARCHAR(100),\n",
    "            Produto VARCHAR(100),\n",
    "            Categoria_Produto VARCHAR(100),\n",
    "            Preço FLOAT(10,2),\n",
    "            Frete FLOAT(10,2),\n",
    "            Data_Compra DATE,\n",
    "            Vendedor VARCHAR(100),\n",
    "            Local_compra VARCHAR(100),\n",
    "            Avaliação_compra INT,\n",
    "            Tipo_pagamento VARCHAR(100),\n",
    "            Qntd_parcelas INT,\n",
    "            latitude FLOAT(10,2),\n",
    "            longitude FLOAT(10,2),  \n",
    "\n",
    "            primary key (id) \n",
    "               \n",
    "    );\n",
    "\n",
    "\"\"\")"
   ]
  },
  {
   "cell_type": "markdown",
   "metadata": {
    "id": "h0QI3ib6AaMX"
   },
   "source": [
    "**Selecionando a base de dados para verificar a tabela criada**"
   ]
  },
  {
   "cell_type": "code",
   "execution_count": null,
   "metadata": {
    "id": "4kQPx8HKAaMX"
   },
   "outputs": [],
   "source": [
    "cursor.execute('use dbprodutos;')\n",
    "cursor.execute('show tables;')\n",
    "\n",
    "for tb in cursor:\n",
    "    print(tb)"
   ]
  },
  {
   "cell_type": "code",
   "execution_count": null,
   "metadata": {},
   "outputs": [],
   "source": [
    "cursor.execute('truncate table tb_livros')"
   ]
  },
  {
   "cell_type": "markdown",
   "metadata": {
    "id": "-vttBXAFAaMX"
   },
   "source": [
    "## Inserindo os dados do csv na tabela"
   ]
  },
  {
   "cell_type": "markdown",
   "metadata": {
    "id": "T1_WbYiCAaMY"
   },
   "source": [
    "Para inserir os dados na tabela do MySQL, é necessário percorrer cada linha do DataFrame e transformá-las em tuplas. Essa abordagem permite que mapeemos os dados do DataFrame para as colunas correspondentes da tabela do MySQL de forma eficiente e precisa."
   ]
  },
  {
   "cell_type": "code",
   "execution_count": null,
   "metadata": {
    "id": "vpub4UUaAaMY"
   },
   "outputs": [],
   "source": [
    "for i, row in df_livros.iterrows():\n",
    "    print(tuple(row))"
   ]
  },
  {
   "cell_type": "code",
   "execution_count": null,
   "metadata": {
    "id": "pXiEzr3xAaMY"
   },
   "outputs": [],
   "source": [
    "lista_dados = [tuple(row) for i, row in df_livros.iterrows()]\n",
    "lista_dados"
   ]
  },
  {
   "cell_type": "code",
   "execution_count": null,
   "metadata": {
    "id": "bmiJewjZAaMY"
   },
   "outputs": [],
   "source": [
    "sql = 'insert into dbprodutos.tb_livros values (%s,%s,%s,%s,%s,%s,%s,%s,%s,%s,%s,%s,%s);'\n",
    "\n",
    "cursor.executemany(sql, lista_dados)\n",
    "cnx.commit()"
   ]
  },
  {
   "cell_type": "code",
   "execution_count": null,
   "metadata": {
    "id": "mtCAC3LRAaMY"
   },
   "outputs": [],
   "source": [
    "print(cursor.rowcount, 'dados inseridos')"
   ]
  },
  {
   "cell_type": "code",
   "execution_count": null,
   "metadata": {
    "id": "P3J6K1ZyAaMZ"
   },
   "outputs": [],
   "source": []
  },
  {
   "cell_type": "code",
   "execution_count": null,
   "metadata": {
    "id": "pl0Abrg1AaMZ"
   },
   "outputs": [],
   "source": []
  },
  {
   "cell_type": "markdown",
   "metadata": {},
   "source": [
    "## Desafio - Criar nova tabela tabela_2021_em_diante e inserir dados "
   ]
  },
  {
   "cell_type": "code",
   "execution_count": null,
   "metadata": {},
   "outputs": [],
   "source": [
    "df_tabela_2021 = pd.read_csv('/home/sander/repos/pipeline_dados_bd/data/tabela_2021_em_diante.csv')\n",
    "df_livros.head()"
   ]
  },
  {
   "cell_type": "code",
   "execution_count": null,
   "metadata": {},
   "outputs": [],
   "source": [
    "df_tabela_2021.shape"
   ]
  },
  {
   "cell_type": "code",
   "execution_count": null,
   "metadata": {},
   "outputs": [],
   "source": [
    "organizador = df_tabela_2021.columns\n",
    "\n",
    "for col in organizador:\n",
    "    print(col, 'varchar(100)')\n"
   ]
  },
  {
   "cell_type": "code",
   "execution_count": null,
   "metadata": {},
   "outputs": [],
   "source": [
    "df_tabela_2021.dtypes"
   ]
  },
  {
   "cell_type": "code",
   "execution_count": null,
   "metadata": {},
   "outputs": [],
   "source": [
    "# Criar uma nova tabela chamada tb_produtos_2021_em_diante dentro da base de dados dbprodutos;\n",
    "\n",
    "cursor.execute(\"\"\"\n",
    "    create table if not exists tb_produtos_2021_em_diante(\n",
    "            id VARCHAR(100),\n",
    "            Produto VARCHAR(100),\n",
    "            Categoria_Produto VARCHAR(100),\n",
    "            Preço FLOAT(10,2),\n",
    "            Frete FLOAT(10,2),\n",
    "            Data_Compra DATE,\n",
    "            Vendedor VARCHAR(100),\n",
    "            Local_compra VARCHAR(100),\n",
    "            Avaliação_compra INT,\n",
    "            Tipo_pagamento VARCHAR(100),\n",
    "            Qntd_parcelas INT,\n",
    "            latitude FLOAT(10,2),\n",
    "            longitude FLOAT(10,2),  \n",
    "\n",
    "            primary key (id) \n",
    "               \n",
    "               );\n",
    "\"\"\")"
   ]
  },
  {
   "cell_type": "code",
   "execution_count": null,
   "metadata": {},
   "outputs": [],
   "source": [
    "cursor.execute('use dbprodutos;')\n",
    "cursor.execute('show tables;')\n",
    "\n",
    "for tb in cursor:\n",
    "    print(tb)"
   ]
  },
  {
   "cell_type": "code",
   "execution_count": null,
   "metadata": {},
   "outputs": [],
   "source": [
    "# Importar os dados contidos no arquivo tabela_2021_em_diante.csv e armazená-los na nova tabela criada.\n",
    "cursor.execute('truncate table tb_produtos_2021_em_diante;')"
   ]
  },
  {
   "cell_type": "code",
   "execution_count": null,
   "metadata": {},
   "outputs": [],
   "source": [
    "for i, row in df_tabela_2021.iterrows():\n",
    "    print(tuple(row))"
   ]
  },
  {
   "cell_type": "code",
   "execution_count": null,
   "metadata": {},
   "outputs": [],
   "source": [
    "lista_dados = [tuple(row) for i, row in df_tabela_2021.iterrows()]\n",
    "lista_dados"
   ]
  },
  {
   "cell_type": "code",
   "execution_count": null,
   "metadata": {},
   "outputs": [],
   "source": [
    "sql = 'insert into dbprodutos.tb_produtos_2021_em_diante values (%s,%s,%s,%s,%s,%s,%s,%s,%s,%s,%s,%s,%s);'\n",
    "\n",
    "cursor.executemany(sql, lista_dados)\n",
    "cnx.commit()"
   ]
  },
  {
   "cell_type": "code",
   "execution_count": null,
   "metadata": {},
   "outputs": [],
   "source": [
    "print(cursor.rowcount, 'dados inseridos')\n"
   ]
  },
  {
   "cell_type": "code",
   "execution_count": null,
   "metadata": {},
   "outputs": [],
   "source": [
    "cursor.execute('select * from dbprodutos.tb_produtos_2021_em_diante;')\n",
    "\n",
    "# Pega todos os resultados\n",
    "resultados = cursor.fetchall()\n",
    "\n",
    "# Exibe os resultados\n",
    "for linha in resultados:\n",
    "    print(linha)"
   ]
  },
  {
   "cell_type": "markdown",
   "metadata": {
    "id": "0uCRoygcAaMY"
   },
   "source": [
    "## Visualizando os dados inseridos"
   ]
  },
  {
   "cell_type": "code",
   "execution_count": null,
   "metadata": {
    "id": "lQYy48pQAaMY"
   },
   "outputs": [],
   "source": [
    "cursor.execute('select * from dbprodutos.tb_livros;')\n",
    "\n",
    "colunas = [desc[0] for desc in cursor.description]\n",
    "print(colunas)\n",
    "\n",
    "for row in cursor:\n",
    "    print(row)\n",
    "\n"
   ]
  },
  {
   "cell_type": "code",
   "execution_count": 47,
   "metadata": {},
   "outputs": [
    {
     "data": {
      "text/plain": [
       "True"
      ]
     },
     "execution_count": 47,
     "metadata": {},
     "output_type": "execute_result"
    }
   ],
   "source": [
    "cursor.close()"
   ]
  },
  {
   "cell_type": "code",
   "execution_count": 48,
   "metadata": {},
   "outputs": [],
   "source": [
    "cnx.close()"
   ]
  }
 ],
 "metadata": {
  "colab": {
   "provenance": []
  },
  "kernelspec": {
   "display_name": "venv",
   "language": "python",
   "name": "python3"
  },
  "language_info": {
   "codemirror_mode": {
    "name": "ipython",
    "version": 3
   },
   "file_extension": ".py",
   "mimetype": "text/x-python",
   "name": "python",
   "nbconvert_exporter": "python",
   "pygments_lexer": "ipython3",
   "version": "3.10.12"
  },
  "orig_nbformat": 4
 },
 "nbformat": 4,
 "nbformat_minor": 0
}
